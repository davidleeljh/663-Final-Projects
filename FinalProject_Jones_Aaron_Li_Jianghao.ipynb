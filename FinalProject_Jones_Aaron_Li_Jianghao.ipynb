{
 "cells": [
  {
   "cell_type": "markdown",
   "metadata": {},
   "source": [
    "Abstract\n",
    "----\n",
    "\n",
    "Various clustering algorithms exist to identify and characterize groups of similar observations. Spectral clustering, as described by Ng _et al._ (2002), finds clusters among the rows of the matrix of eigenvectors of a scaled affinity matrix, assigning each observation to the cluster of its corresponding row. How to cluster these rows is left unspecified, but the authors give _k_-means clustering as an example. The clusters determined by the _k_-means algorithm depend on the initial cluster centers, but it is computationally expensive to repeatedly sample centers and rerun the algorithm, or to handpick optimal initial centers in sequence as in the _k_-means++ algorithm. To combat this inefficiency, Bahmani _et al._ (2012) presented a method to select a desirable set of initial centers in parallel, making _k_-means++ scalable to larger datasets.\n",
    "\n",
    "This project aims to combine these two methods in a single Python implementation, carrying out spectral clustering by selecting initial centers for _k_-means clustering among the rows of the matrix of eigenvectors of the affinity matrix using scalable _k_-means++. This combined algorithm is designed for intermediate datasets, for which finding the first _k_ eigenvectors is still feasible but repeatedly sampling initial centers and rerunning already takes too long. In particular, this algorithm would perform best in datasets with contiguous, irregularly shaped clusters, for which spectral clustering preserves non-spherical boundaries and choosing an initial center in each cluster by scalable _k_-means++ produces near-optimal clusters much faster than randomly sampling initial centers from among all observations."
   ]
  }
 ],
 "metadata": {
  "kernelspec": {
   "display_name": "Python 3",
   "language": "python",
   "name": "python3"
  },
  "language_info": {
   "codemirror_mode": {
    "name": "ipython",
    "version": 3
   },
   "file_extension": ".py",
   "mimetype": "text/x-python",
   "name": "python",
   "nbconvert_exporter": "python",
   "pygments_lexer": "ipython3",
   "version": "3.4.4"
  }
 },
 "nbformat": 4,
 "nbformat_minor": 0
}
