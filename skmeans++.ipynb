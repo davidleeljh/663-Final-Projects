{
 "cells": [
  {
   "cell_type": "code",
   "execution_count": 4,
   "metadata": {
    "collapsed": false
   },
   "outputs": [],
   "source": [
    "import scipy.linalg as la\n",
    "from numba import jit\n",
    "def phi(X, C):\n",
    "    '''compute the cost function of data X with respect to centroid set C'''\n",
    "    return np.sum([min([la.norm(x-c)**2 for c in C]) for x in X])"
   ]
  },
  {
   "cell_type": "code",
   "execution_count": 10,
   "metadata": {
    "collapsed": true
   },
   "outputs": [],
   "source": [
    "def num_closest(C,X):\n",
    "    '''find the index of centroid that is closest to each data points in X'''\n",
    "    d_mat = np.sum((C[None,:] - X[:,None])**2, -1)\n",
    "    close = [np.argmin(d) for d in d_mat]\n",
    "    return close\n",
    "    "
   ]
  },
  {
   "cell_type": "code",
   "execution_count": 37,
   "metadata": {
    "collapsed": false
   },
   "outputs": [],
   "source": [
    "import scipy.stats as stats\n",
    "from sklearn.cluster import KMeans\n",
    "def kmeans_paral(X, k, l):\n",
    "    '''impliment Kmeans||'''\n",
    "    C_idx = [np.random.choice(X.shape[0])]  #uniformly sample one point into the centroid set\n",
    "    dist = phi(X,X[C_idx])\n",
    "    max_it = int(np.log(dist))\n",
    "    for it in range(max_it):\n",
    "        Cprime = [i for i,x in enumerate(X) if stats.uniform().rvs(1)< l*phi(x,C)/dist] #sample each data independently into centroid set\n",
    "        C_idx = list(set(C_idx) | set(Cprime))\n",
    "        dist = phi(X,X[C_idx])\n",
    "    close = num_closest(X[C_idx],X)\n",
    "    w = [close.count(c) for c in C_idx] #calculate weight of each centroid\n",
    "    re = sum([[j]*w[i] for i,j in enumerate(C_idx)],[])\n",
    "    fit = KMeans(n_clusters = k).fit(X[re]) #recluster the weighted points into k clusters\n",
    "    return fit.cluster_centers_\n",
    "        "
   ]
  },
  {
   "cell_type": "code",
   "execution_count": 47,
   "metadata": {
    "collapsed": false
   },
   "outputs": [
    {
     "name": "stdout",
     "output_type": "stream",
     "text": [
      "CPU times: user 1.32 s, sys: 12.3 ms, total: 1.33 s\n",
      "Wall time: 1.32 s\n"
     ]
    }
   ],
   "source": [
    "%%time\n",
    "data = \"54.0 -65.0  0.0  71.0 -31.0  53.0  8.0 111.0  1.0  -9.0 -36.0  52.0 -22.0 -76.0  0.0  20.0 34.0 129.0 28.0  84.0 12.0 -38.0 -21.0 -26.0 -6.0 -41.0 21.0  45.0 38.0 -90.0 -24.0  10.0 -38.0  35.0 86.0 -57.0 58.0  -1.0 -9.0  -3.0 70.0 -74.0 -20.0  70.0 -43.0  44.0 59.0 -26.0 -5.0 114.0 83.0 -41.0 27.0 153.0 12.0 -49.0 30.0 -65.0 31.0 -12.0 -57.0  28.0 44.0 -28.0  7.0  -7.0 54.0  -8.0 65.0  -8.0 -35.0  25.0 46.0  79.0  5.0 118.0 56.0   4.0 -21.0  54.0 -40.0  45.0 -43.0  51.0 57.0 -21.0  0.0   0.0 25.0  15.0 56.0 -25.0 -34.0  56.0 -24.0  36.0 -25.0  49.0 64.0 -26.0 63.0 -48.0 37.0 155.0 -5.0 -24.0  2.0  28.0 -18.0 -58.0 -10.0  82.0 12.0 -58.0 -40.0 -28.0 -16.0  28.0\"\n",
    "X = np.array( [float(x) for x in data.split()]).reshape([-1,2])\n",
    "init = kmeans_paral(X, 3, 2)"
   ]
  },
  {
   "cell_type": "code",
   "execution_count": 48,
   "metadata": {
    "collapsed": false
   },
   "outputs": [
    {
     "data": {
      "text/plain": [
       "<matplotlib.collections.PathCollection at 0x7f44bbe783c8>"
      ]
     },
     "execution_count": 48,
     "metadata": {},
     "output_type": "execute_result"
    },
    {
     "name": "stderr",
     "output_type": "stream",
     "text": [
      "/opt/conda/lib/python3.4/site-packages/matplotlib/collections.py:590: FutureWarning: elementwise comparison failed; returning scalar instead, but in the future will perform elementwise comparison\n",
      "  if self._edgecolors == str('face'):\n"
     ]
    },
    {
     "data": {
      "image/png": "[encoded data removed]",
      "text/plain": [
       "<matplotlib.figure.Figure at 0x7f44bbd3f470>"
      ]
     },
     "metadata": {},
     "output_type": "display_data"
    }
   ],
   "source": [
    "plt.scatter(X[:,0],X[:,1])\n",
    "plt.scatter(init[:,0],init[:,1], marker='o',s=50,color='red')"
   ]
  },
  {
   "cell_type": "code",
   "execution_count": null,
   "metadata": {
    "collapsed": true
   },
   "outputs": [],
   "source": []
  }
 ],
 "metadata": {
  "kernelspec": {
   "display_name": "Python 3",
   "language": "python",
   "name": "python3"
  },
  "language_info": {
   "codemirror_mode": {
    "name": "ipython",
    "version": 3
   },
   "file_extension": ".py",
   "mimetype": "text/x-python",
   "name": "python",
   "nbconvert_exporter": "python",
   "pygments_lexer": "ipython3",
   "version": "3.4.4"
  }
 },
 "nbformat": 4,
 "nbformat_minor": 0
}
